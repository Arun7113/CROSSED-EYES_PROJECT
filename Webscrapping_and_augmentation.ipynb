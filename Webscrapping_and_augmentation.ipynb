{
 "cells": [
  {
   "cell_type": "markdown",
   "id": "5e378177-999b-4172-ace1-f83022fe8235",
   "metadata": {},
   "source": [
    "## WEBSCRAPPING-DATASET"
   ]
  },
  {
   "cell_type": "code",
   "execution_count": null,
   "id": "fd4bcdab-a6d0-444a-942c-8ec7238f5bf1",
   "metadata": {},
   "outputs": [],
   "source": [
    "from bing_image_downloader import downloader\n",
    "downloader.download(\"strabismus eye\",output_dir=\"strabismus\")"
   ]
  },
  {
   "cell_type": "code",
   "execution_count": null,
   "id": "cd9ccbc8-fd21-4cc5-9c33-70fd387fd9df",
   "metadata": {},
   "outputs": [],
   "source": [
    "downloader.download(\"normal eyes\",output_dir=\"strabismus\")"
   ]
  },
  {
   "cell_type": "markdown",
   "id": "728ec16c-3724-4ab8-93ed-42eb74ec1ef2",
   "metadata": {},
   "source": [
    "## IMAGE AUGMENTATION"
   ]
  },
  {
   "cell_type": "code",
   "execution_count": null,
   "id": "2fe31497-ea86-453f-a6c0-1ceb22047cbc",
   "metadata": {},
   "outputs": [],
   "source": [
    "import os\n",
    "from keras.preprocessing.image import ImageDataGenerator\n",
    "from tensorflow.keras.preprocessing.image import img_to_array, load_img\n",
    "\n",
    "datagen = ImageDataGenerator(\n",
    "        rotation_range = 40,\n",
    "        shear_range = 0.2,\n",
    "        zoom_range = 0.2,\n",
    "        horizontal_flip = True,\n",
    "        brightness_range = (0.5, 1.5))\n",
    "\n",
    "\n",
    "folder_path = 'strabismus/strabismus eye/'\n",
    "\n",
    "\n",
    "image_files = os.listdir(folder_path)\n",
    "\n",
    "\n",
    "for filename in image_files:\n",
    "\n",
    "    img = load_img(os.path.join(folder_path, filename))\n",
    "\n",
    "    x = img_to_array(img)\n",
    "\n",
    "    x = x.reshape((1, ) + x.shape)\n",
    "    \n",
    "    \n",
    "    i = 0\n",
    "    for batch in datagen.flow(x, batch_size = 1,\n",
    "                              save_to_dir ='augmented', \n",
    "                              save_prefix = filename.split('.')[0],\n",
    "                              save_format ='jpeg'):\n",
    "        i += 1\n",
    "        if i > 6:\n",
    "            break\n"
   ]
  }
 ],
 "metadata": {
  "kernelspec": {
   "display_name": "py38",
   "language": "python",
   "name": "py38"
  },
  "language_info": {
   "codemirror_mode": {
    "name": "ipython",
    "version": 3
   },
   "file_extension": ".py",
   "mimetype": "text/x-python",
   "name": "python",
   "nbconvert_exporter": "python",
   "pygments_lexer": "ipython3",
   "version": "3.8.19"
  }
 },
 "nbformat": 4,
 "nbformat_minor": 5
}
